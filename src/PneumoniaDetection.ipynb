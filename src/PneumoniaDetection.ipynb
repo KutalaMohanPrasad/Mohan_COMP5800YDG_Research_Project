{
 "cells": [
  {
   "cell_type": "markdown",
   "metadata": {},
   "source": [
    "**Applying ResNet50**"
   ]
  },
  {
   "cell_type": "code",
   "execution_count": 1,
   "metadata": {},
   "outputs": [],
   "source": [
    "import tensorflow as tf \n",
    "from tensorflow.keras.preprocessing.image import ImageDataGenerator\n",
    "train_dir='C:/Users/rupa/anaconda3/envs/FinalProject_AutoML/pneumonia_Images/train_filtered/'\n",
    "test_dir='C:/Users/rupa/anaconda3/envs/FinalProject_AutoML/pneumonia_Images/test_filtered/'\n",
    "BATCH_SIZE = 8\n",
    "IMG_SIZE = 224"
   ]
  },
  {
   "cell_type": "code",
   "execution_count": 2,
   "metadata": {},
   "outputs": [],
   "source": [
    "train_image_generator = ImageDataGenerator(rescale=1/255.)\n",
    "test_image_generator = ImageDataGenerator(rescale=1/255.)"
   ]
  },
  {
   "cell_type": "code",
   "execution_count": 3,
   "metadata": {},
   "outputs": [
    {
     "name": "stdout",
     "output_type": "stream",
     "text": [
      "Found 3018 images belonging to 2 classes.\n",
      "Found 2224 images belonging to 2 classes.\n"
     ]
    }
   ],
   "source": [
    "train_gen = train_image_generator.flow_from_directory(batch_size = BATCH_SIZE,\n",
    "                                                directory= train_dir,\n",
    "                                                shuffle = True,\n",
    "                                                target_size = (IMG_SIZE, IMG_SIZE))\n",
    "test_gen = test_image_generator.flow_from_directory(batch_size = BATCH_SIZE,\n",
    "                                                directory= test_dir,\n",
    "                                                target_size = (IMG_SIZE, IMG_SIZE))"
   ]
  },
  {
   "cell_type": "code",
   "execution_count": 4,
   "metadata": {},
   "outputs": [
    {
     "name": "stdout",
     "output_type": "stream",
     "text": [
      "(8, 224, 224, 3)\n",
      "(8, 2)\n"
     ]
    }
   ],
   "source": [
    "for item in train_gen:\n",
    "    images,labels = item\n",
    "    print(images.shape)\n",
    "    print(labels.shape)\n",
    "    break\n",
    "resnet50v2 = tf.keras.applications.ResNet50V2(include_top = False, \n",
    "                                  weights='imagenet', \n",
    "                                  input_shape = (IMG_SIZE, IMG_SIZE, 3))"
   ]
  },
  {
   "cell_type": "markdown",
   "metadata": {},
   "source": [
    "**ResNet50**"
   ]
  },
  {
   "cell_type": "code",
   "execution_count": 5,
   "metadata": {},
   "outputs": [
    {
     "name": "stdout",
     "output_type": "stream",
     "text": [
      "Model: \"sequential\"\n",
      "_________________________________________________________________\n",
      "Layer (type)                 Output Shape              Param #   \n",
      "=================================================================\n",
      "resnet50v2 (Functional)      (None, 7, 7, 2048)        23564800  \n",
      "_________________________________________________________________\n",
      "flatten (Flatten)            (None, 100352)            0         \n",
      "_________________________________________________________________\n",
      "dense (Dense)                (None, 64)                6422592   \n",
      "_________________________________________________________________\n",
      "dropout (Dropout)            (None, 64)                0         \n",
      "_________________________________________________________________\n",
      "dense_1 (Dense)              (None, 128)               8320      \n",
      "_________________________________________________________________\n",
      "dropout_1 (Dropout)          (None, 128)               0         \n",
      "_________________________________________________________________\n",
      "dense_2 (Dense)              (None, 2)                 258       \n",
      "=================================================================\n",
      "Total params: 29,995,970\n",
      "Trainable params: 29,950,530\n",
      "Non-trainable params: 45,440\n",
      "_________________________________________________________________\n"
     ]
    }
   ],
   "source": [
    "model_resNet50  = tf.keras.Sequential([\n",
    "        resnet50v2,\n",
    "        tf.keras.layers.Flatten(),\n",
    "        tf.keras.layers.Dense(64, activation='relu'),\n",
    "        tf.keras.layers.Dropout(0.2), \n",
    "        tf.keras.layers.Dense(128, activation='relu'),\n",
    "        tf.keras.layers.Dropout(0.2),\n",
    "        #tf.keras.layers.Dense(512, activation='relu'),\n",
    "        #tf.keras.layers.Dropout(0.2),\n",
    "        tf.keras.layers.Dense(2, activation='softmax')\n",
    "])\n",
    "\n",
    "model_resNet50.compile(loss='categorical_crossentropy', \n",
    "              metrics=[\n",
    "                  tf.keras.metrics.BinaryAccuracy(name='accuracy'),\n",
    "                  tf.keras.metrics.Precision(name='precision'),\n",
    "                  tf.keras.metrics.Recall(name='recall'),\n",
    "              ], \n",
    "              optimizer = tf.keras.optimizers.Adam(learning_rate = 1e-7))\n",
    "model_resNet50.summary()"
   ]
  },
  {
   "cell_type": "code",
   "execution_count": 6,
   "metadata": {},
   "outputs": [
    {
     "name": "stdout",
     "output_type": "stream",
     "text": [
      "Epoch 1/4\n",
      "378/378 [==============================] - 2238s 6s/step - loss: 0.8134 - accuracy: 0.5218 - precision: 0.5218 - recall: 0.5218\n",
      "Epoch 2/4\n",
      "378/378 [==============================] - 2684s 7s/step - loss: 0.5580 - accuracy: 0.7167 - precision: 0.7167 - recall: 0.7167\n",
      "Epoch 3/4\n",
      "378/378 [==============================] - 3390s 9s/step - loss: 0.3994 - accuracy: 0.8358 - precision: 0.8358 - recall: 0.8358\n",
      "Epoch 4/4\n",
      "378/378 [==============================] - 3101s 8s/step - loss: 0.2969 - accuracy: 0.9038 - precision: 0.9038 - recall: 0.9038\n"
     ]
    }
   ],
   "source": [
    "history = model_resNet50.fit(train_gen, epochs=4)"
   ]
  },
  {
   "cell_type": "code",
   "execution_count": 7,
   "metadata": {},
   "outputs": [
    {
     "name": "stdout",
     "output_type": "stream",
     "text": [
      "278/278 [==============================] - 299s 1s/step - loss: 0.1936 - accuracy: 0.9798 - precision: 0.9798 - recall: 0.9798\n",
      "\n",
      "Testing Accuracy:: 97.98%\n"
     ]
    }
   ],
   "source": [
    "scores = model_resNet50.evaluate(test_gen)\n",
    "print(\"\\n%s: %.2f%%\" % (\"Testing Accuracy:\", scores[1]*100))"
   ]
  },
  {
   "cell_type": "code",
   "execution_count": 8,
   "metadata": {},
   "outputs": [],
   "source": [
    "import os\n",
    "import pandas as pd\n",
    "test_data = []\n",
    "test_normal_path = test_dir + '/NORMAL'\n",
    "test_pneumonia_path = test_dir + '/PNEUMONIA'\n",
    "for filename in os.listdir(test_normal_path):\n",
    "    test_data.append((os.path.join(test_normal_path,filename),0))\n",
    "for filename in os.listdir(test_pneumonia_path):\n",
    "    test_data.append((os.path.join(test_pneumonia_path,filename),1))    \n",
    "    \n",
    "    \n",
    "    \n",
    "    \n",
    "test_df = pd.DataFrame(test_data, columns = ['img_path','label'], index = None)"
   ]
  },
  {
   "cell_type": "code",
   "execution_count": 12,
   "metadata": {},
   "outputs": [],
   "source": [
    "import seaborn as sns\n",
    "import numpy as np\n",
    "import cv2\n",
    "from sklearn.metrics import confusion_matrix\n",
    "import matplotlib.pyplot as plt\n",
    "def predict(image_path, model):\n",
    "    im = cv2.imread(image_path)\n",
    "    test_image = np.asarray(im)\n",
    "    processed_test_image = process_image(test_image)\n",
    "    processed_test_image = np.expand_dims(processed_test_image, axis = 0)\n",
    "    \n",
    "    ps = model.predict(processed_test_image)\n",
    "    return ps\n",
    "def process_image(image):\n",
    "    image = image/255\n",
    "    image = cv2.resize(image, (224,224))\n",
    "    return image\n",
    "def testing(model, test_df):\n",
    "    \"\"\" the passed data must be the img_path columns and label column\"\"\"\n",
    "    base_pred =[]\n",
    "    for image in test_df.img_path:\n",
    "        base_pred.append(predict(image , model)[0][0])\n",
    "    \n",
    "    final_base_pred  = np.where(np.array(base_pred)>0.5,1,0)\n",
    "    return final_base_pred\n",
    "final_base_pred=testing(model_resNet50,test_df)"
   ]
  },
  {
   "cell_type": "code",
   "execution_count": 21,
   "metadata": {},
   "outputs": [
    {
     "data": {
      "text/plain": [
       "[Text(0, 0.5, 'NORMAL'), Text(0, 1.5, 'PNEUMONIA')]"
      ]
     },
     "execution_count": 21,
     "metadata": {},
     "output_type": "execute_result"
    },
    {
     "data": {
      "image/png": "[encoded data removed]",
      "text/plain": [
       "<Figure size 432x288 with 2 Axes>"
      ]
     },
     "metadata": {
      "needs_background": "light"
     },
     "output_type": "display_data"
    }
   ],
   "source": [
    "# print(final_base_pred)\n",
    "tick_labels = ['NORMAL', 'PNEUMONIA']\n",
    "tick_labels1 = ['PNEUMONIA', 'NORMAL']\n",
    "actual_label = test_df['label']\n",
    "#print(classification_report(actual_label, final_base_pred))\n",
    "matrix=confusion_matrix(actual_label, final_base_pred)\n",
    "ax =sns.heatmap(matrix,annot=True, fmt='d',cmap=\"Greens_r\")\n",
    "plt.xlabel('Predicted')\n",
    "plt.ylabel('Actual')\n",
    "ax.set_xticklabels(tick_labels1)\n",
    "ax.set_yticklabels(tick_labels)"
   ]
  },
  {
   "cell_type": "code",
   "execution_count": null,
   "metadata": {},
   "outputs": [],
   "source": [
    "def max_deviation(s, max_dev_init=-1):\n",
    "    occurence = {}\n",
    "\n",
    "    max_val = 0\n",
    "    min_val = len(s)\n",
    "    min_ch = '\\0'\n",
    "    max_dev = max_dev_init\n",
    "\n",
    "    for i in range(len(s)):\n",
    "        ch = s[i]\n",
    "        if ch not in occurence:\n",
    "            occurence[ch] = 0\n",
    "\n",
    "        occurence[ch] += 1\n",
    "        if ch == min_ch:\n",
    "            min_ch = min(occurence, key=occurence.get)\n",
    "            min_val = occurence[min_ch]\n",
    "        elif occurence[ch] < min_val:\n",
    "            min_val = occurence[ch]\n",
    "            min_ch = ch\n",
    "\n",
    "        if occurence[ch] > max_val:\n",
    "            max_val = occurence[ch]\n",
    "\n",
    "        # for i in occurence:\n",
    "        #     if occurence[i] < min_val:\n",
    "        #         min_val = occurence[i]\n",
    "\n",
    "        if (max_val - min_val) > max_dev:\n",
    "            max_dev = max_val - min_val\n",
    "\n",
    "    if max_dev_init == -1:\n",
    "        max_dev_inv = max_deviation(s[::-1], max_dev)\n",
    "        if max_dev_inv > max_dev:\n",
    "            max_dev = max_dev_inv\n",
    "\n",
    "\n",
    "\n",
    "    return max_dev\n",
    "\n",
    "\n",
    "print(max_deviation(\"aabb\"))"
   ]
  },
  {
   "cell_type": "code",
   "execution_count": null,
   "metadata": {},
   "outputs": [],
   "source": [
    "import math\n",
    "def channelMedian(packets,channelNumbers):\n",
    "    numberOfPackets=len(packets)//(packets[0])\n",
    "    #channels = [channelNumbers][numberOfPackets]\n",
    "    channels = [[0 for x in range(channelNumbers)] for y in range(numberOfPackets)] \n",
    "    size1=0\n",
    "    size2=0\n",
    "    max1=1\n",
    "    for i in range (numberOfPackets-2):\n",
    "        if packets[numberOfPackets-1]==packets[i]:\n",
    "            max1 +=1\n",
    "        else:\n",
    "            break\n",
    "    index=numberOfPackets-max1\n",
    "    \n",
    "    for i in range(numberOfPackets):\n",
    "        if i==index:\n",
    "            for j in range(numberOfPackets):\n",
    "                channels[1][j]=packets[i]\n",
    "                size2 +=1\n",
    "                i +=1\n",
    "                if i==numberOfPackets:\n",
    "                    break\n",
    "        else:\n",
    "            for j in range(numberOfPackets):\n",
    "                channels[0][js]=packets[i]\n",
    "                size1 +=1\n",
    "                i +=1\n",
    "                if i==index:\n",
    "                    break\n",
    "    median1=0\n",
    "    if size1%2==0:\n",
    "        mid1=size1/2\n",
    "        median1=math.ceil((channels[0][mid1-1]+channels[0][mid1])/2)\n",
    "    else:\n",
    "        median1=channels[0][size1/2]\n",
    "    median2=0\n",
    "    if size2%2==0:\n",
    "        mid2=size2/2\n",
    "        median2=math.ceil((channels[1][mid2-1]+channels[1][mid2])/2)\n",
    "    else:\n",
    "         median2=channels[1][size2/2]\n",
    "    \n",
    "    median=median1+median2\n",
    "    \n",
    "    return median\n",
    "\n",
    "\n",
    "packets =[1,2,3,4,5]\n",
    "channels=2\n",
    "\n",
    "print(channelMedian(packets,channels))\n",
    "    \n",
    "    \n",
    "            \n",
    "    \n",
    "    "
   ]
  },
  {
   "cell_type": "code",
   "execution_count": null,
   "metadata": {},
   "outputs": [],
   "source": []
  }
 ],
 "metadata": {
  "kernelspec": {
   "display_name": "Python 3",
   "language": "python",
   "name": "python3"
  },
  "language_info": {
   "codemirror_mode": {
    "name": "ipython",
    "version": 3
   },
   "file_extension": ".py",
   "mimetype": "text/x-python",
   "name": "python",
   "nbconvert_exporter": "python",
   "pygments_lexer": "ipython3",
   "version": "3.8.3"
  }
 },
 "nbformat": 4,
 "nbformat_minor": 4
}
